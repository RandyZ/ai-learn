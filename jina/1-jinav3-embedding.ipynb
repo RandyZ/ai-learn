{
 "cells": [
  {
   "cell_type": "markdown",
   "metadata": {},
   "source": [
    "# [Jina-V3](https://huggingface.co/jinaai/jina-embeddings-v3)\n",
    "jina-embeddings-v3是一个多语言多任务文本嵌入模型，专为各种NLP应用程序而设计。基于Jina-XLM-RoBERTa架构，该模型支持旋转位置嵌入来处理高达8192个令牌的长输入序列。此外，它还具有5个LoRA适配器，可以有效地生成特定于任务的嵌入。\n",
    "\n",
    "\n",
    "## 五种任务模式\n",
    "- **retrieval.query**：用于非对称检索任务中的查询嵌入\n",
    "- **retrieval.passage**：用于非对称检索任务中的通道嵌入\n",
    "- **separation**：用于集群和重新排名应用程序中的嵌入\n",
    "- **classification**：用于分类任务中的嵌入\n",
    "- **text-matching**：用于嵌入量化两个文本之间相似性的任务，例如STS或对称检索任务\n",
    "\n",
    "接下来对五种特定任务的嵌入做一下测试和验证。"
   ]
  },
  {
   "cell_type": "markdown",
   "metadata": {},
   "source": [
    "1. 初始化模型"
   ]
  },
  {
   "cell_type": "code",
   "execution_count": 2,
   "metadata": {},
   "outputs": [
    {
     "name": "stdout",
     "output_type": "stream",
     "text": [
      "模型初始化完成\n"
     ]
    }
   ],
   "source": [
    "from transformers import AutoModel\n",
    "\n",
    "model = AutoModel.from_pretrained(\"/Users/randy/Downloads/models/jinaai/jina-embeddings-v3\", trust_remote_code=True)\n",
    "model.to('mps')\n",
    "print(\"模型初始化完成\")"
   ]
  },
  {
   "cell_type": "markdown",
   "metadata": {},
   "source": [
    "2. 定义任务和语言"
   ]
  },
  {
   "cell_type": "code",
   "execution_count": 3,
   "metadata": {},
   "outputs": [],
   "source": [
    "tasks = ['retrieval.query', 'retrieval.passage', 'separation', 'classification', 'text-matching']\n",
    "texts = [\n",
    "  \"Follow the white rabbit.\",  # English\n",
    "  \"Sigue al conejo blanco.\",  # Spanish\n",
    "  \"Suis le lapin blanc.\",  # French\n",
    "  \"跟着白兔走。\",  # Chinese\n",
    "  \"اتبع الأرنب الأبيض.\",  # Arabic\n",
    "  \"Folge dem weißen Kaninchen.\",  # German\n",
    "  \"在前面那只白色的兔子后面走。\",  # Similar Chinese\n",
    "]\n",
    "languages = ['English', 'Spanish', 'French', 'Chinese', 'Arabic', 'German', 'Similar']"
   ]
  },
  {
   "cell_type": "markdown",
   "metadata": {},
   "source": [
    "3. 计算每个任务的嵌入向量和相似度"
   ]
  },
  {
   "cell_type": "code",
   "execution_count": 7,
   "metadata": {},
   "outputs": [],
   "source": [
    "import pandas as pd\n",
    "from sklearn.metrics.pairwise import cosine_similarity\n",
    "\n",
    "# 存储每个任务的相似度矩阵\n",
    "similarities = {}\n",
    "for task in tasks:\n",
    "    embeddings = model.encode(texts, task=task)\n",
    "    sim_matrix = cosine_similarity(embeddings, embeddings)\n",
    "    similarities[task] = sim_matrix"
   ]
  },
  {
   "cell_type": "markdown",
   "metadata": {},
   "source": [
    "- `retrieval.query`任务"
   ]
  },
  {
   "cell_type": "code",
   "execution_count": 10,
   "metadata": {},
   "outputs": [
    {
     "name": "stdout",
     "output_type": "stream",
     "text": [
      "\n",
      "=== 任务模式: retrieval.query ===\n",
      "         English  Spanish  French  Chinese  Arabic  German  Similar\n",
      "English    1.000    0.683   0.580    0.706   0.713   0.739    0.687\n",
      "Spanish    0.683    1.000   0.562    0.629   0.650   0.780    0.585\n",
      "French     0.580    0.562   1.000    0.451   0.543   0.665    0.432\n",
      "Chinese    0.706    0.629   0.451    1.000   0.586   0.621    0.785\n",
      "Arabic     0.713    0.650   0.543    0.586   1.000   0.684    0.563\n",
      "German     0.739    0.780   0.665    0.621   0.684   1.000    0.601\n",
      "Similar    0.687    0.585   0.432    0.785   0.563   0.601    1.000\n"
     ]
    }
   ],
   "source": [
    "print(f\"\\n=== 任务模式: {tasks[0]} ===\")\n",
    "df = pd.DataFrame(\n",
    "    similarities[tasks[0]], \n",
    "    index=languages,\n",
    "    columns=languages\n",
    ")\n",
    "print(df.round(3))"
   ]
  },
  {
   "cell_type": "markdown",
   "metadata": {},
   "source": [
    "- `retrieval.passage`任务"
   ]
  },
  {
   "cell_type": "code",
   "execution_count": 11,
   "metadata": {},
   "outputs": [
    {
     "name": "stdout",
     "output_type": "stream",
     "text": [
      "\n",
      "=== 任务模式: retrieval.passage ===\n",
      "         English  Spanish  French  Chinese  Arabic  German  Similar\n",
      "English    1.000    0.842   0.576    0.661   0.819   0.851    0.691\n",
      "Spanish    0.842    1.000   0.633    0.566   0.797   0.886    0.592\n",
      "French     0.576    0.633   1.000    0.287   0.528   0.652    0.359\n",
      "Chinese    0.661    0.566   0.287    1.000   0.620   0.490    0.778\n",
      "Arabic     0.819    0.797   0.528    0.620   1.000   0.764    0.630\n",
      "German     0.851    0.886   0.652    0.490   0.764   1.000    0.529\n",
      "Similar    0.691    0.592   0.359    0.778   0.630   0.529    1.000\n"
     ]
    }
   ],
   "source": [
    "\n",
    "print(f\"\\n=== 任务模式: {tasks[1]} ===\")\n",
    "df = pd.DataFrame(\n",
    "    similarities[tasks[1]], \n",
    "    index=languages,\n",
    "    columns=languages\n",
    ")\n",
    "print(df.round(3))"
   ]
  },
  {
   "cell_type": "code",
   "execution_count": null,
   "metadata": {},
   "outputs": [
    {
     "name": "stdout",
     "output_type": "stream",
     "text": [
      "\n",
      "=== 任务模式: retrieval.query ===\n",
      "         English  Spanish  French  Chinese  Arabic  German  Similar\n",
      "English    1.000    0.683   0.580    0.706   0.713   0.739    0.687\n",
      "Spanish    0.683    1.000   0.562    0.629   0.650   0.780    0.585\n",
      "French     0.580    0.562   1.000    0.451   0.543   0.665    0.432\n",
      "Chinese    0.706    0.629   0.451    1.000   0.586   0.621    0.785\n",
      "Arabic     0.713    0.650   0.543    0.586   1.000   0.684    0.563\n",
      "German     0.739    0.780   0.665    0.621   0.684   1.000    0.601\n",
      "Similar    0.687    0.585   0.432    0.785   0.563   0.601    1.000\n"
     ]
    }
   ],
   "source": [
    "\n",
    "print(f\"\\n=== 任务模式: {tasks[0]} ===\")\n",
    "df = pd.DataFrame(\n",
    "    similarities[tasks[0]], \n",
    "    index=languages,\n",
    "    columns=languages\n",
    ")\n",
    "print(df.round(3))"
   ]
  },
  {
   "cell_type": "markdown",
   "metadata": {},
   "source": [
    "- `separation`任务"
   ]
  },
  {
   "cell_type": "code",
   "execution_count": 12,
   "metadata": {},
   "outputs": [
    {
     "name": "stdout",
     "output_type": "stream",
     "text": [
      "\n",
      "=== 任务模式: separation ===\n",
      "         English  Spanish  French  Chinese  Arabic  German  Similar\n",
      "English    1.000    0.895   0.881    0.888   0.897   0.906    0.877\n",
      "Spanish    0.895    1.000   0.878    0.879   0.885   0.917    0.866\n",
      "French     0.881    0.878   1.000    0.843   0.851   0.895    0.824\n",
      "Chinese    0.888    0.879   0.843    1.000   0.855   0.872    0.942\n",
      "Arabic     0.897    0.885   0.851    0.855   1.000   0.872    0.847\n",
      "German     0.906    0.917   0.895    0.872   0.872   1.000    0.869\n",
      "Similar    0.877    0.866   0.824    0.942   0.847   0.869    1.000\n"
     ]
    }
   ],
   "source": [
    "print(f\"\\n=== 任务模式: {tasks[2]} ===\")\n",
    "df = pd.DataFrame(\n",
    "    similarities[tasks[2]], \n",
    "    index=languages,\n",
    "    columns=languages\n",
    ")\n",
    "print(df.round(3))"
   ]
  },
  {
   "cell_type": "markdown",
   "metadata": {},
   "source": [
    "- `classification`任务"
   ]
  },
  {
   "cell_type": "code",
   "execution_count": 13,
   "metadata": {},
   "outputs": [
    {
     "name": "stdout",
     "output_type": "stream",
     "text": [
      "\n",
      "=== 任务模式: classification ===\n",
      "         English  Spanish  French  Chinese  Arabic  German  Similar\n",
      "English    1.000    0.862   0.868    0.865   0.835   0.882    0.830\n",
      "Spanish    0.862    1.000   0.894    0.846   0.863   0.904    0.808\n",
      "French     0.868    0.894   1.000    0.846   0.865   0.912    0.813\n",
      "Chinese    0.865    0.846   0.846    1.000   0.801   0.855    0.902\n",
      "Arabic     0.835    0.863   0.865    0.801   1.000   0.844    0.777\n",
      "German     0.882    0.904   0.912    0.855   0.844   1.000    0.833\n",
      "Similar    0.830    0.808   0.813    0.902   0.777   0.833    1.000\n"
     ]
    }
   ],
   "source": [
    "print(f\"\\n=== 任务模式: {tasks[3]} ===\")\n",
    "df = pd.DataFrame(\n",
    "    similarities[tasks[3]], \n",
    "    index=languages,\n",
    "    columns=languages\n",
    ")\n",
    "print(df.round(3))"
   ]
  },
  {
   "cell_type": "markdown",
   "metadata": {},
   "source": [
    "- `text-matching`任务"
   ]
  },
  {
   "cell_type": "code",
   "execution_count": 14,
   "metadata": {},
   "outputs": [
    {
     "name": "stdout",
     "output_type": "stream",
     "text": [
      "\n",
      "=== 任务模式: text-matching ===\n",
      "         English  Spanish  French  Chinese  Arabic  German  Similar\n",
      "English    1.000    0.709   0.538    0.656   0.721   0.776    0.681\n",
      "Spanish    0.709    1.000   0.603    0.666   0.634   0.821    0.664\n",
      "French     0.538    0.603   1.000    0.526   0.523   0.616    0.506\n",
      "Chinese    0.656    0.666   0.526    1.000   0.536   0.643    0.930\n",
      "Arabic     0.721    0.634   0.523    0.536   1.000   0.641    0.545\n",
      "German     0.776    0.821   0.616    0.643   0.641   1.000    0.662\n",
      "Similar    0.681    0.664   0.506    0.930   0.545   0.662    1.000\n"
     ]
    }
   ],
   "source": [
    "print(f\"\\n=== 任务模式: {tasks[4]} ===\")\n",
    "df = pd.DataFrame(\n",
    "    similarities[tasks[4]], \n",
    "    index=languages,\n",
    "    columns=languages\n",
    ")\n",
    "print(df.round(3))"
   ]
  },
  {
   "cell_type": "markdown",
   "metadata": {},
   "source": [
    "4. 任务模式之间的平均差异"
   ]
  },
  {
   "cell_type": "code",
   "execution_count": 16,
   "metadata": {},
   "outputs": [
    {
     "name": "stdout",
     "output_type": "stream",
     "text": [
      "\n",
      "=== 不同任务模式之间的平均差异 ===\n",
      "retrieval.query vs retrieval.passage: 0.060\n",
      "retrieval.query vs separation: 0.212\n",
      "retrieval.query vs classification: 0.190\n",
      "retrieval.query vs text-matching: 0.038\n",
      "retrieval.passage vs separation: 0.199\n",
      "retrieval.passage vs classification: 0.178\n",
      "retrieval.passage vs text-matching: 0.079\n",
      "separation vs classification: 0.026\n",
      "separation vs text-matching: 0.198\n",
      "classification vs text-matching: 0.178\n"
     ]
    }
   ],
   "source": [
    "import numpy as np\n",
    "print(\"\\n=== 不同任务模式之间的平均差异 ===\")\n",
    "task_differences = {}\n",
    "for i in range(len(tasks)):\n",
    "    for j in range(i+1, len(tasks)):\n",
    "        task1, task2 = tasks[i], tasks[j]\n",
    "        diff = np.abs(similarities[task1] - similarities[task2]).mean()\n",
    "        task_differences[f\"{task1} vs {task2}\"] = diff\n",
    "\n",
    "for pair, diff in task_differences.items():\n",
    "    print(f\"{pair}: {diff:.3f}\")"
   ]
  },
  {
   "cell_type": "markdown",
   "metadata": {},
   "source": [
    "## 五种模式的分析\n",
    "\n",
    "上面的实验中可以看出Jina的不同模式"
   ]
  }
 ],
 "metadata": {
  "kernelspec": {
   "display_name": "llm-learn",
   "language": "python",
   "name": "python3"
  },
  "language_info": {
   "codemirror_mode": {
    "name": "ipython",
    "version": 3
   },
   "file_extension": ".py",
   "mimetype": "text/x-python",
   "name": "python",
   "nbconvert_exporter": "python",
   "pygments_lexer": "ipython3",
   "version": "3.10.16"
  }
 },
 "nbformat": 4,
 "nbformat_minor": 2
}
